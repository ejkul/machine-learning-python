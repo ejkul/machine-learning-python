{
 "cells": [
  {
   "cell_type": "code",
   "execution_count": 1,
   "metadata": {},
   "outputs": [],
   "source": [
    "import matplotlib.pyplot as plt\n",
    "import numpy as np\n",
    "\n",
    "\n",
    "#X1 transaction date\t\n",
    "# X2 house age\t\n",
    "# X3 distance to the nearest MRT station\t\n",
    "# X4 number of convenience stores\t\n",
    "# X5 latitude\t\n",
    "# X6 longitude\tY house price of unit area\n"
   ]
  },
  {
   "cell_type": "code",
   "execution_count": 97,
   "metadata": {},
   "outputs": [
    {
     "data": {
      "text/plain": [
       "LinearRegression(copy_X=True, fit_intercept=True, n_jobs=None,\n",
       "         normalize=False)"
      ]
     },
     "execution_count": 97,
     "metadata": {},
     "output_type": "execute_result"
    }
   ],
   "source": [
    "data = np.genfromtxt(\"real_estate_valuation.txt\")\n",
    "X = np.array(data[:-20,1:6])\n",
    "y = np.array(data[:-20,6:7])\n",
    "\n",
    "X_test = np.array(data[-20:,1:6])\n",
    "y_test = np.array(data[-20:,6:7])\n",
    "# print(y)\n",
    "# y.shape\n",
    "# data[:,0]\n",
    "# print(y.shape)\n",
    "regr = linear_model.LinearRegression()\n",
    "\n",
    "# Train the model using the training sets\n",
    "regr.fit(X, y)\n"
   ]
  },
  {
   "cell_type": "code",
   "execution_count": 102,
   "metadata": {},
   "outputs": [
    {
     "name": "stdout",
     "output_type": "stream",
     "text": [
      "Coefficients:\n",
      " [[ 1.19777065e-03 -2.50278748e-05 -1.08375280e-05 -2.21192519e-04\n",
      "  -1.15513425e-01]]\n",
      "Mean Squared Error: 0.000126\n",
      "Variance Score: 0.49\n"
     ]
    }
   ],
   "source": [
    "predict = regr.predict(X_test)\n",
    "print(\"Coefficients:\\n\", regr.coef_)\n",
    "print(\"Mean Squared Error: %2f\" % mean_squared_error(y_test, predict))\n",
    "print(\"Variance Score: %.2f\" % r2_score(y_test, predict))\n"
   ]
  },
  {
   "cell_type": "code",
   "execution_count": null,
   "metadata": {},
   "outputs": [],
   "source": []
  },
  {
   "cell_type": "code",
   "execution_count": null,
   "metadata": {},
   "outputs": [],
   "source": []
  }
 ],
 "metadata": {
  "kernelspec": {
   "display_name": "Python 3",
   "language": "python",
   "name": "python3"
  },
  "language_info": {
   "codemirror_mode": {
    "name": "ipython",
    "version": 3
   },
   "file_extension": ".py",
   "mimetype": "text/x-python",
   "name": "python",
   "nbconvert_exporter": "python",
   "pygments_lexer": "ipython3",
   "version": "3.6.7"
  }
 },
 "nbformat": 4,
 "nbformat_minor": 2
}
